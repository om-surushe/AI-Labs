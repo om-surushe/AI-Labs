{
 "cells": [
  {
   "cell_type": "code",
   "execution_count": 1,
   "metadata": {},
   "outputs": [],
   "source": [
    "board_final = [[1,2,3],\n",
    "                [4,5,6],\n",
    "                [7,8,0]]"
   ]
  },
  {
   "cell_type": "code",
   "execution_count": 2,
   "metadata": {},
   "outputs": [],
   "source": [
    "board_new = [[1,2,3],\n",
    "            [4,0,6],\n",
    "            [7,5,8]]"
   ]
  },
  {
   "cell_type": "code",
   "execution_count": 3,
   "metadata": {},
   "outputs": [],
   "source": [
    "def print_board(board):\n",
    "    for i in board:\n",
    "        for j in i:\n",
    "            print(j,end=\" \")\n",
    "        print()"
   ]
  },
  {
   "cell_type": "code",
   "execution_count": 4,
   "metadata": {},
   "outputs": [],
   "source": [
    "def check_board(board):\n",
    "    displaced = 0\n",
    "    for i in range(len(board)):\n",
    "        for j in range(len(board[0])):\n",
    "            if board_final[i][j] != board[i][j]:\n",
    "                displaced += 1\n",
    "    return displaced"
   ]
  },
  {
   "cell_type": "code",
   "execution_count": 5,
   "metadata": {},
   "outputs": [],
   "source": [
    "def find_zero(board):\n",
    "    for i, sublist in enumerate(board):\n",
    "        if(0 in sublist):\n",
    "            return [i,sublist.index(0)]"
   ]
  },
  {
   "cell_type": "code",
   "execution_count": 6,
   "metadata": {},
   "outputs": [],
   "source": [
    "def find_best(i,j,k,l,board):\n",
    "    board[i][j], board[k][l] = board[k][l], board[i][j]\n",
    "    score = check_board(board)\n",
    "    board[i][j], board[k][l] = board[k][l], board[i][j]\n",
    "    return score"
   ]
  },
  {
   "cell_type": "code",
   "execution_count": 7,
   "metadata": {},
   "outputs": [
    {
     "name": "stdout",
     "output_type": "stream",
     "text": [
      "1 2 3 \n",
      "4 0 6 \n",
      "7 5 8 \n",
      "2\n",
      "==================================================\n",
      "\n",
      "1 2 3 \n",
      "4 5 6 \n",
      "7 0 8 \n",
      "0\n",
      "==================================================\n",
      "\n",
      "1 2 3 \n",
      "4 5 6 \n",
      "7 8 0 \n",
      "total_moved:- 2\n"
     ]
    }
   ],
   "source": [
    "total_moved = 0\n",
    "best = check_board(board_new)\n",
    "while(check_board(board_new)>0):\n",
    "\n",
    "    posi,posj = find_zero(board_new)\n",
    "    possible_moves = []\n",
    "\n",
    "    for i in [-1,1]:\n",
    "        if((0 <= posi + i) and (posi +i <= 2)):\n",
    "            possible_moves.append([posi + i,posj])\n",
    "        if((0 <= posj + i) and (posj +i <= 2)):\n",
    "            possible_moves.append([posi,posj+i])\n",
    "\n",
    "    history = []\n",
    "    err = []\n",
    "    for trail in possible_moves:\n",
    "        moved = find_best(trail[0],trail[1],posi,posj,board=board_new)\n",
    "        history.append([moved,trail[0],trail[1]])\n",
    "        err.append(moved)\n",
    "    history.sort()\n",
    "\n",
    "    err = set(err)\n",
    "    if(len(err) == 1):\n",
    "        print(\"Cancel kr raha hu ye solve nai hoga mere se\")\n",
    "        break\n",
    "\n",
    "    finalm,finali,finalj = history[0]\n",
    "    print_board(board_new)\n",
    "    print(finalm)\n",
    "    print(\"==================================================\\n\")\n",
    "    board_new[finali][finalj] , board_new[posi][posj] = board_new[posi][posj] , board_new[finali][finalj]\n",
    "    total_moved += 1\n",
    "\n",
    "print_board(board_new)\n",
    "print(\"total_moved:-\",total_moved)"
   ]
  }
 ],
 "metadata": {
  "kernelspec": {
   "display_name": "Python 3.9.9 64-bit",
   "language": "python",
   "name": "python3"
  },
  "language_info": {
   "codemirror_mode": {
    "name": "ipython",
    "version": 3
   },
   "file_extension": ".py",
   "mimetype": "text/x-python",
   "name": "python",
   "nbconvert_exporter": "python",
   "pygments_lexer": "ipython3",
   "version": "3.9.13"
  },
  "orig_nbformat": 4,
  "vscode": {
   "interpreter": {
    "hash": "c5d64c408e218bad1ef2f6d52eda7227d7c9b3359218fee44be0ee9517925497"
   }
  }
 },
 "nbformat": 4,
 "nbformat_minor": 2
}
